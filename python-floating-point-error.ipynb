{
 "cells": [
  {
   "cell_type": "markdown",
   "metadata": {},
   "source": [
    "## Example of a Floating Point Error in Python\n",
    "\n",
    "\n",
    "This notebook demonstrates a quick example of a floating point error. These types of errors are found in all programming languages but this particular demonstration is in Python.\n",
    "\n",
    "---"
   ]
  },
  {
   "cell_type": "markdown",
   "metadata": {},
   "source": [
    "### The Problem\n",
    "First, we'll set a few different variables equal to different floats. Run the cell below so that each of the variables are stored in memory."
   ]
  },
  {
   "cell_type": "code",
   "execution_count": null,
   "metadata": {},
   "outputs": [],
   "source": [
    "x = 1.2\n",
    "y = 1.0\n",
    "z = 0.2"
   ]
  },
  {
   "cell_type": "markdown",
   "metadata": {},
   "source": [
    "We would expect that taking `x` and subtracting `y` would yield a result that is equal to `z` (1.2 - 1.0 = 0.2). However, if you run the code below, you'll find that it actually returns `False`."
   ]
  },
  {
   "cell_type": "code",
   "execution_count": null,
   "metadata": {},
   "outputs": [],
   "source": [
    "x - y == z"
   ]
  },
  {
   "cell_type": "markdown",
   "metadata": {},
   "source": [
    "### The Explanation\n",
    "Why is this the case? The best way to explain this is by referencing a similar problem within our own base-10 number system that we use in everyday life. The concept of a third is something that obviously exists, but is impossible to fully write out in its decimal form. We use shortcuts such as `1/3` or `0.333...` but the true value is a decimal point followed by an infinite amount of threes.\n",
    "\n",
    "A similar situation happens with computers, but rather than operating in a base-10 number system, computers use binary (1s and 0s) instead. Certain math operations can cause the same exact issue for computers where the true value is a number infinitely repeating. In binary, this may look something like a pattern of 1s and 0s repeating forever (e.g., `100100100100...`). Like us, computers can't count to infinity so they also take a shortcut! After a certain amount of repetition, the computer rounds the last digit and calls it a day."
   ]
  },
  {
   "cell_type": "markdown",
   "metadata": {},
   "source": [
    "So what does the computer say taking `x` and subtracting `y` from above equals? Run the cell below and find out:"
   ]
  },
  {
   "cell_type": "code",
   "execution_count": null,
   "metadata": {},
   "outputs": [],
   "source": [
    "x - y"
   ]
  },
  {
   "cell_type": "markdown",
   "metadata": {},
   "source": [
    "### The Solution\n",
    "There are a number of different ways to handle this issue, some of which can be fairly complicated depending on the operations being performed. For this simple example, here are some basic solutions:\n",
    "- Convert each variable to an `int` by multiplying by a factor of 10, perform the operation, and then divide by a factor of 10\n",
    "- Use the `decimal` library which comes preinstalled as part of the standard libraries of Python ([more info](https://docs.python.org/3/library/decimal.html))\n",
    "\n",
    "Here's an example of the first method in action:"
   ]
  },
  {
   "cell_type": "code",
   "execution_count": null,
   "metadata": {},
   "outputs": [],
   "source": [
    "# In this case, we only need to multiply by 10 since there's only one decimal place in the floats\n",
    "# If there were two decimal places, we'd need to multiply by 100 and so on\n",
    "\n",
    "a = int(x*10)  \n",
    "b = int(y*10)\n",
    "\n",
    "(a-b)/10  # Performing the operation on the integers first, then dividing by 10 to get back to a float"
   ]
  }
 ],
 "metadata": {
  "kernelspec": {
   "display_name": "Python 3",
   "language": "python",
   "name": "python3"
  },
  "language_info": {
   "codemirror_mode": {
    "name": "ipython",
    "version": 3
   },
   "file_extension": ".py",
   "mimetype": "text/x-python",
   "name": "python",
   "nbconvert_exporter": "python",
   "pygments_lexer": "ipython3",
   "version": "3.8.5"
  }
 },
 "nbformat": 4,
 "nbformat_minor": 4
}
